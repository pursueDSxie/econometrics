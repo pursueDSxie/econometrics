{
 "cells": [
  {
   "cell_type": "markdown",
   "metadata": {},
   "source": [
    "# 工具变量的定义"
   ]
  },
  {
   "cell_type": "markdown",
   "metadata": {},
   "source": [
    "$该变量主要解决内生性问题，与随机扰动项不相关,即\\rho(x_{工具},\\varepsilon)=0,\\\\\n",
    "与内生变量相关,即\\rho(x_{工具}，x_{内生}) \\neq 0 $"
   ]
  },
  {
   "cell_type": "markdown",
   "metadata": {},
   "source": [
    "# 什么是二阶段最小二乘IV2SLS\n",
    "$本质:把内生变量拆成两个东西，一部分与随机扰动项不相关，\\\\\n",
    "另一部分与随机扰动项相关$"
   ]
  },
  {
   "cell_type": "markdown",
   "metadata": {},
   "source": [
    "$该模型分为两个阶段的回归\\\\\n",
    "第一阶段：通过工具变量，拟合生成不与随机扰动项相关的数据x_{fit}\\\\\n",
    "第二阶段：x_{fit}再与被解释变量做回归(避免了内生性问题)$"
   ]
  },
  {
   "cell_type": "markdown",
   "metadata": {},
   "source": [
    "# 伍德里奇参考案例\n",
    "研究美国女性教育回报问题"
   ]
  },
  {
   "cell_type": "markdown",
   "metadata": {},
   "source": [
    "## 研究背景"
   ]
  },
  {
   "cell_type": "markdown",
   "metadata": {},
   "source": [
    "$研究美国女性的受教育时间与她们的工资收入之间的关系，\\\\\n",
    "在此基础上加入外生变量：工作经验,以及它的平方项\\\\\n",
    "即log(wage) = \\beta_0 +\\beta_1educ+\\beta_2exper+\\beta_3exper^2+u$\n",
    "\n",
    "$注:加入工具变量,因为在内生变量中只考虑了受教育时间，\\\\\n",
    "大概率会存在遗漏变量，从而引发内生性问题，因此考虑将父亲的\\\\\n",
    "受教育程度fatheduc、母亲的受教育程度motheduc作为工具变量$"
   ]
  },
  {
   "cell_type": "code",
   "execution_count": 26,
   "metadata": {},
   "outputs": [
    {
     "name": "stdout",
     "output_type": "stream",
     "text": [
      "wage     325\n",
      "lwage    325\n",
      "dtype: int64\n"
     ]
    },
    {
     "data": {
      "text/html": [
       "<div>\n",
       "<style scoped>\n",
       "    .dataframe tbody tr th:only-of-type {\n",
       "        vertical-align: middle;\n",
       "    }\n",
       "\n",
       "    .dataframe tbody tr th {\n",
       "        vertical-align: top;\n",
       "    }\n",
       "\n",
       "    .dataframe thead th {\n",
       "        text-align: right;\n",
       "    }\n",
       "</style>\n",
       "<table border=\"1\" class=\"dataframe\">\n",
       "  <thead>\n",
       "    <tr style=\"text-align: right;\">\n",
       "      <th></th>\n",
       "      <th>inlf</th>\n",
       "      <th>hours</th>\n",
       "      <th>kidslt6</th>\n",
       "      <th>kidsge6</th>\n",
       "      <th>age</th>\n",
       "      <th>educ</th>\n",
       "      <th>wage</th>\n",
       "      <th>repwage</th>\n",
       "      <th>hushrs</th>\n",
       "      <th>husage</th>\n",
       "      <th>...</th>\n",
       "      <th>faminc</th>\n",
       "      <th>mtr</th>\n",
       "      <th>motheduc</th>\n",
       "      <th>fatheduc</th>\n",
       "      <th>unem</th>\n",
       "      <th>city</th>\n",
       "      <th>exper</th>\n",
       "      <th>nwifeinc</th>\n",
       "      <th>lwage</th>\n",
       "      <th>expersq</th>\n",
       "    </tr>\n",
       "  </thead>\n",
       "  <tbody>\n",
       "    <tr>\n",
       "      <th>0</th>\n",
       "      <td>1</td>\n",
       "      <td>1610</td>\n",
       "      <td>1</td>\n",
       "      <td>0</td>\n",
       "      <td>32</td>\n",
       "      <td>12</td>\n",
       "      <td>3.3540</td>\n",
       "      <td>2.65</td>\n",
       "      <td>2708</td>\n",
       "      <td>34</td>\n",
       "      <td>...</td>\n",
       "      <td>16310.0</td>\n",
       "      <td>0.7215</td>\n",
       "      <td>12</td>\n",
       "      <td>7</td>\n",
       "      <td>5.0</td>\n",
       "      <td>0</td>\n",
       "      <td>14</td>\n",
       "      <td>10.910060</td>\n",
       "      <td>1.210154</td>\n",
       "      <td>196</td>\n",
       "    </tr>\n",
       "    <tr>\n",
       "      <th>1</th>\n",
       "      <td>1</td>\n",
       "      <td>1656</td>\n",
       "      <td>0</td>\n",
       "      <td>2</td>\n",
       "      <td>30</td>\n",
       "      <td>12</td>\n",
       "      <td>1.3889</td>\n",
       "      <td>2.65</td>\n",
       "      <td>2310</td>\n",
       "      <td>30</td>\n",
       "      <td>...</td>\n",
       "      <td>21800.0</td>\n",
       "      <td>0.6615</td>\n",
       "      <td>7</td>\n",
       "      <td>7</td>\n",
       "      <td>11.0</td>\n",
       "      <td>1</td>\n",
       "      <td>5</td>\n",
       "      <td>19.499981</td>\n",
       "      <td>0.328512</td>\n",
       "      <td>25</td>\n",
       "    </tr>\n",
       "    <tr>\n",
       "      <th>2</th>\n",
       "      <td>1</td>\n",
       "      <td>1980</td>\n",
       "      <td>1</td>\n",
       "      <td>3</td>\n",
       "      <td>35</td>\n",
       "      <td>12</td>\n",
       "      <td>4.5455</td>\n",
       "      <td>4.04</td>\n",
       "      <td>3072</td>\n",
       "      <td>40</td>\n",
       "      <td>...</td>\n",
       "      <td>21040.0</td>\n",
       "      <td>0.6915</td>\n",
       "      <td>12</td>\n",
       "      <td>7</td>\n",
       "      <td>5.0</td>\n",
       "      <td>0</td>\n",
       "      <td>15</td>\n",
       "      <td>12.039910</td>\n",
       "      <td>1.514138</td>\n",
       "      <td>225</td>\n",
       "    </tr>\n",
       "    <tr>\n",
       "      <th>3</th>\n",
       "      <td>1</td>\n",
       "      <td>456</td>\n",
       "      <td>0</td>\n",
       "      <td>3</td>\n",
       "      <td>34</td>\n",
       "      <td>12</td>\n",
       "      <td>1.0965</td>\n",
       "      <td>3.25</td>\n",
       "      <td>1920</td>\n",
       "      <td>53</td>\n",
       "      <td>...</td>\n",
       "      <td>7300.0</td>\n",
       "      <td>0.7815</td>\n",
       "      <td>7</td>\n",
       "      <td>7</td>\n",
       "      <td>5.0</td>\n",
       "      <td>0</td>\n",
       "      <td>6</td>\n",
       "      <td>6.799996</td>\n",
       "      <td>0.092123</td>\n",
       "      <td>36</td>\n",
       "    </tr>\n",
       "    <tr>\n",
       "      <th>4</th>\n",
       "      <td>1</td>\n",
       "      <td>1568</td>\n",
       "      <td>1</td>\n",
       "      <td>2</td>\n",
       "      <td>31</td>\n",
       "      <td>14</td>\n",
       "      <td>4.5918</td>\n",
       "      <td>3.60</td>\n",
       "      <td>2000</td>\n",
       "      <td>32</td>\n",
       "      <td>...</td>\n",
       "      <td>27300.0</td>\n",
       "      <td>0.6215</td>\n",
       "      <td>12</td>\n",
       "      <td>14</td>\n",
       "      <td>9.5</td>\n",
       "      <td>1</td>\n",
       "      <td>7</td>\n",
       "      <td>20.100058</td>\n",
       "      <td>1.524272</td>\n",
       "      <td>49</td>\n",
       "    </tr>\n",
       "  </tbody>\n",
       "</table>\n",
       "<p>5 rows × 22 columns</p>\n",
       "</div>"
      ],
      "text/plain": [
       "   inlf  hours  kidslt6  kidsge6  age  educ    wage  repwage  hushrs  husage  \\\n",
       "0     1   1610        1        0   32    12  3.3540     2.65    2708      34   \n",
       "1     1   1656        0        2   30    12  1.3889     2.65    2310      30   \n",
       "2     1   1980        1        3   35    12  4.5455     4.04    3072      40   \n",
       "3     1    456        0        3   34    12  1.0965     3.25    1920      53   \n",
       "4     1   1568        1        2   31    14  4.5918     3.60    2000      32   \n",
       "\n",
       "   ...   faminc     mtr  motheduc  fatheduc  unem  city  exper   nwifeinc  \\\n",
       "0  ...  16310.0  0.7215        12         7   5.0     0     14  10.910060   \n",
       "1  ...  21800.0  0.6615         7         7  11.0     1      5  19.499981   \n",
       "2  ...  21040.0  0.6915        12         7   5.0     0     15  12.039910   \n",
       "3  ...   7300.0  0.7815         7         7   5.0     0      6   6.799996   \n",
       "4  ...  27300.0  0.6215        12        14   9.5     1      7  20.100058   \n",
       "\n",
       "      lwage  expersq  \n",
       "0  1.210154      196  \n",
       "1  0.328512       25  \n",
       "2  1.514138      225  \n",
       "3  0.092123       36  \n",
       "4  1.524272       49  \n",
       "\n",
       "[5 rows x 22 columns]"
      ]
     },
     "execution_count": 26,
     "metadata": {},
     "output_type": "execute_result"
    }
   ],
   "source": [
    "# 导入数据\n",
    "import wooldridge as wool\n",
    "import pandas as pd\n",
    "data=wool.dataWoo('mroz')\n",
    "#检查数据是否有缺失值\n",
    "print(data.isnull().sum()[data.isnull().sum()!=0])\n",
    "#即lwage有缺失值，删除含有确实值的样本\n",
    "data.dropna(subset=['lwage'],inplace=True)\n",
    "data.head()"
   ]
  },
  {
   "cell_type": "markdown",
   "metadata": {},
   "source": [
    "## 第一种方法：statsmodel进行2SLS回归\n",
    "需要进行两次回归"
   ]
  },
  {
   "cell_type": "markdown",
   "metadata": {},
   "source": [
    "### 第一阶段:首先将内生变量与工具变量回归，生成x_fit"
   ]
  },
  {
   "cell_type": "markdown",
   "metadata": {},
   "source": [
    "$\\ educ = \\beta_0+\\beta_1exper+\\beta_2exper^2+\\beta_3fathereduc+\\beta_4fathereduc+\\varepsilon$"
   ]
  },
  {
   "cell_type": "code",
   "execution_count": 29,
   "metadata": {},
   "outputs": [
    {
     "data": {
      "text/html": [
       "<table class=\"simpletable\">\n",
       "<caption>OLS Regression Results</caption>\n",
       "<tr>\n",
       "  <th>Dep. Variable:</th>          <td>educ</td>       <th>  R-squared:         </th> <td>   0.211</td>\n",
       "</tr>\n",
       "<tr>\n",
       "  <th>Model:</th>                   <td>OLS</td>       <th>  Adj. R-squared:    </th> <td>   0.204</td>\n",
       "</tr>\n",
       "<tr>\n",
       "  <th>Method:</th>             <td>Least Squares</td>  <th>  F-statistic:       </th> <td>   28.36</td>\n",
       "</tr>\n",
       "<tr>\n",
       "  <th>Date:</th>             <td>Tue, 15 Nov 2022</td> <th>  Prob (F-statistic):</th> <td>6.87e-21</td>\n",
       "</tr>\n",
       "<tr>\n",
       "  <th>Time:</th>                 <td>09:22:28</td>     <th>  Log-Likelihood:    </th> <td> -909.72</td>\n",
       "</tr>\n",
       "<tr>\n",
       "  <th>No. Observations:</th>      <td>   428</td>      <th>  AIC:               </th> <td>   1829.</td>\n",
       "</tr>\n",
       "<tr>\n",
       "  <th>Df Residuals:</th>          <td>   423</td>      <th>  BIC:               </th> <td>   1850.</td>\n",
       "</tr>\n",
       "<tr>\n",
       "  <th>Df Model:</th>              <td>     4</td>      <th>                     </th>     <td> </td>   \n",
       "</tr>\n",
       "<tr>\n",
       "  <th>Covariance Type:</th>      <td>nonrobust</td>    <th>                     </th>     <td> </td>   \n",
       "</tr>\n",
       "</table>\n",
       "<table class=\"simpletable\">\n",
       "<tr>\n",
       "      <td></td>         <th>coef</th>     <th>std err</th>      <th>t</th>      <th>P>|t|</th>  <th>[0.025</th>    <th>0.975]</th>  \n",
       "</tr>\n",
       "<tr>\n",
       "  <th>Intercept</th> <td>    9.1026</td> <td>    0.427</td> <td>   21.340</td> <td> 0.000</td> <td>    8.264</td> <td>    9.941</td>\n",
       "</tr>\n",
       "<tr>\n",
       "  <th>exper</th>     <td>    0.0452</td> <td>    0.040</td> <td>    1.124</td> <td> 0.262</td> <td>   -0.034</td> <td>    0.124</td>\n",
       "</tr>\n",
       "<tr>\n",
       "  <th>expersq</th>   <td>   -0.0010</td> <td>    0.001</td> <td>   -0.839</td> <td> 0.402</td> <td>   -0.003</td> <td>    0.001</td>\n",
       "</tr>\n",
       "<tr>\n",
       "  <th>fatheduc</th>  <td>    0.1895</td> <td>    0.034</td> <td>    5.615</td> <td> 0.000</td> <td>    0.123</td> <td>    0.256</td>\n",
       "</tr>\n",
       "<tr>\n",
       "  <th>motheduc</th>  <td>    0.1576</td> <td>    0.036</td> <td>    4.391</td> <td> 0.000</td> <td>    0.087</td> <td>    0.228</td>\n",
       "</tr>\n",
       "</table>\n",
       "<table class=\"simpletable\">\n",
       "<tr>\n",
       "  <th>Omnibus:</th>       <td>10.903</td> <th>  Durbin-Watson:     </th> <td>   1.940</td>\n",
       "</tr>\n",
       "<tr>\n",
       "  <th>Prob(Omnibus):</th> <td> 0.004</td> <th>  Jarque-Bera (JB):  </th> <td>  20.371</td>\n",
       "</tr>\n",
       "<tr>\n",
       "  <th>Skew:</th>          <td>-0.013</td> <th>  Prob(JB):          </th> <td>3.77e-05</td>\n",
       "</tr>\n",
       "<tr>\n",
       "  <th>Kurtosis:</th>      <td> 4.068</td> <th>  Cond. No.          </th> <td>1.55e+03</td>\n",
       "</tr>\n",
       "</table><br/><br/>Notes:<br/>[1] Standard Errors assume that the covariance matrix of the errors is correctly specified.<br/>[2] The condition number is large, 1.55e+03. This might indicate that there are<br/>strong multicollinearity or other numerical problems."
      ],
      "text/plain": [
       "<class 'statsmodels.iolib.summary.Summary'>\n",
       "\"\"\"\n",
       "                            OLS Regression Results                            \n",
       "==============================================================================\n",
       "Dep. Variable:                   educ   R-squared:                       0.211\n",
       "Model:                            OLS   Adj. R-squared:                  0.204\n",
       "Method:                 Least Squares   F-statistic:                     28.36\n",
       "Date:                Tue, 15 Nov 2022   Prob (F-statistic):           6.87e-21\n",
       "Time:                        09:22:28   Log-Likelihood:                -909.72\n",
       "No. Observations:                 428   AIC:                             1829.\n",
       "Df Residuals:                     423   BIC:                             1850.\n",
       "Df Model:                           4                                         \n",
       "Covariance Type:            nonrobust                                         \n",
       "==============================================================================\n",
       "                 coef    std err          t      P>|t|      [0.025      0.975]\n",
       "------------------------------------------------------------------------------\n",
       "Intercept      9.1026      0.427     21.340      0.000       8.264       9.941\n",
       "exper          0.0452      0.040      1.124      0.262      -0.034       0.124\n",
       "expersq       -0.0010      0.001     -0.839      0.402      -0.003       0.001\n",
       "fatheduc       0.1895      0.034      5.615      0.000       0.123       0.256\n",
       "motheduc       0.1576      0.036      4.391      0.000       0.087       0.228\n",
       "==============================================================================\n",
       "Omnibus:                       10.903   Durbin-Watson:                   1.940\n",
       "Prob(Omnibus):                  0.004   Jarque-Bera (JB):               20.371\n",
       "Skew:                          -0.013   Prob(JB):                     3.77e-05\n",
       "Kurtosis:                       4.068   Cond. No.                     1.55e+03\n",
       "==============================================================================\n",
       "\n",
       "Notes:\n",
       "[1] Standard Errors assume that the covariance matrix of the errors is correctly specified.\n",
       "[2] The condition number is large, 1.55e+03. This might indicate that there are\n",
       "strong multicollinearity or other numerical problems.\n",
       "\"\"\""
      ]
     },
     "execution_count": 29,
     "metadata": {},
     "output_type": "execute_result"
    }
   ],
   "source": [
    "import statsmodels.formula.api as sm\n",
    "reg_first=sm.ols(formula='educ~exper+expersq+fatheduc+motheduc',\n",
    "                data=data)\n",
    "result_first=reg_first.fit()\n",
    "data['educ_fit']=result_first.fittedvalues#这里生成了x拟合值\n",
    "result_first.summary()"
   ]
  },
  {
   "cell_type": "markdown",
   "metadata": {},
   "source": [
    "### 第二阶段：将生成的x_fit值与被解释变量做回归\n",
    "这个才是我们需要真正分析的"
   ]
  },
  {
   "cell_type": "markdown",
   "metadata": {},
   "source": [
    "$log(wage)=\\alpha_0+\\alpha_1educ_{fit}+\\alpha_2exper+\\alpha_3expersq+u$"
   ]
  },
  {
   "cell_type": "code",
   "execution_count": 31,
   "metadata": {},
   "outputs": [
    {
     "data": {
      "text/html": [
       "<table class=\"simpletable\">\n",
       "<caption>OLS Regression Results</caption>\n",
       "<tr>\n",
       "  <th>Dep. Variable:</th>          <td>lwage</td>      <th>  R-squared:         </th> <td>   0.050</td>\n",
       "</tr>\n",
       "<tr>\n",
       "  <th>Model:</th>                   <td>OLS</td>       <th>  Adj. R-squared:    </th> <td>   0.043</td>\n",
       "</tr>\n",
       "<tr>\n",
       "  <th>Method:</th>             <td>Least Squares</td>  <th>  F-statistic:       </th> <td>   7.405</td>\n",
       "</tr>\n",
       "<tr>\n",
       "  <th>Date:</th>             <td>Tue, 15 Nov 2022</td> <th>  Prob (F-statistic):</th> <td>7.62e-05</td>\n",
       "</tr>\n",
       "<tr>\n",
       "  <th>Time:</th>                 <td>09:29:22</td>     <th>  Log-Likelihood:    </th> <td> -457.17</td>\n",
       "</tr>\n",
       "<tr>\n",
       "  <th>No. Observations:</th>      <td>   428</td>      <th>  AIC:               </th> <td>   922.3</td>\n",
       "</tr>\n",
       "<tr>\n",
       "  <th>Df Residuals:</th>          <td>   424</td>      <th>  BIC:               </th> <td>   938.6</td>\n",
       "</tr>\n",
       "<tr>\n",
       "  <th>Df Model:</th>              <td>     3</td>      <th>                     </th>     <td> </td>   \n",
       "</tr>\n",
       "<tr>\n",
       "  <th>Covariance Type:</th>      <td>nonrobust</td>    <th>                     </th>     <td> </td>   \n",
       "</tr>\n",
       "</table>\n",
       "<table class=\"simpletable\">\n",
       "<tr>\n",
       "      <td></td>         <th>coef</th>     <th>std err</th>      <th>t</th>      <th>P>|t|</th>  <th>[0.025</th>    <th>0.975]</th>  \n",
       "</tr>\n",
       "<tr>\n",
       "  <th>Intercept</th> <td>    0.0481</td> <td>    0.420</td> <td>    0.115</td> <td> 0.909</td> <td>   -0.777</td> <td>    0.873</td>\n",
       "</tr>\n",
       "<tr>\n",
       "  <th>educ_fit</th>  <td>    0.0614</td> <td>    0.033</td> <td>    1.863</td> <td> 0.063</td> <td>   -0.003</td> <td>    0.126</td>\n",
       "</tr>\n",
       "<tr>\n",
       "  <th>exper</th>     <td>    0.0442</td> <td>    0.014</td> <td>    3.136</td> <td> 0.002</td> <td>    0.016</td> <td>    0.072</td>\n",
       "</tr>\n",
       "<tr>\n",
       "  <th>expersq</th>   <td>   -0.0009</td> <td>    0.000</td> <td>   -2.134</td> <td> 0.033</td> <td>   -0.002</td> <td>-7.11e-05</td>\n",
       "</tr>\n",
       "</table>\n",
       "<table class=\"simpletable\">\n",
       "<tr>\n",
       "  <th>Omnibus:</th>       <td>53.587</td> <th>  Durbin-Watson:     </th> <td>   1.959</td>\n",
       "</tr>\n",
       "<tr>\n",
       "  <th>Prob(Omnibus):</th> <td> 0.000</td> <th>  Jarque-Bera (JB):  </th> <td> 168.354</td>\n",
       "</tr>\n",
       "<tr>\n",
       "  <th>Skew:</th>          <td>-0.551</td> <th>  Prob(JB):          </th> <td>2.77e-37</td>\n",
       "</tr>\n",
       "<tr>\n",
       "  <th>Kurtosis:</th>      <td> 5.868</td> <th>  Cond. No.          </th> <td>4.41e+03</td>\n",
       "</tr>\n",
       "</table><br/><br/>Notes:<br/>[1] Standard Errors assume that the covariance matrix of the errors is correctly specified.<br/>[2] The condition number is large, 4.41e+03. This might indicate that there are<br/>strong multicollinearity or other numerical problems."
      ],
      "text/plain": [
       "<class 'statsmodels.iolib.summary.Summary'>\n",
       "\"\"\"\n",
       "                            OLS Regression Results                            \n",
       "==============================================================================\n",
       "Dep. Variable:                  lwage   R-squared:                       0.050\n",
       "Model:                            OLS   Adj. R-squared:                  0.043\n",
       "Method:                 Least Squares   F-statistic:                     7.405\n",
       "Date:                Tue, 15 Nov 2022   Prob (F-statistic):           7.62e-05\n",
       "Time:                        09:29:22   Log-Likelihood:                -457.17\n",
       "No. Observations:                 428   AIC:                             922.3\n",
       "Df Residuals:                     424   BIC:                             938.6\n",
       "Df Model:                           3                                         \n",
       "Covariance Type:            nonrobust                                         \n",
       "==============================================================================\n",
       "                 coef    std err          t      P>|t|      [0.025      0.975]\n",
       "------------------------------------------------------------------------------\n",
       "Intercept      0.0481      0.420      0.115      0.909      -0.777       0.873\n",
       "educ_fit       0.0614      0.033      1.863      0.063      -0.003       0.126\n",
       "exper          0.0442      0.014      3.136      0.002       0.016       0.072\n",
       "expersq       -0.0009      0.000     -2.134      0.033      -0.002   -7.11e-05\n",
       "==============================================================================\n",
       "Omnibus:                       53.587   Durbin-Watson:                   1.959\n",
       "Prob(Omnibus):                  0.000   Jarque-Bera (JB):              168.354\n",
       "Skew:                          -0.551   Prob(JB):                     2.77e-37\n",
       "Kurtosis:                       5.868   Cond. No.                     4.41e+03\n",
       "==============================================================================\n",
       "\n",
       "Notes:\n",
       "[1] Standard Errors assume that the covariance matrix of the errors is correctly specified.\n",
       "[2] The condition number is large, 4.41e+03. This might indicate that there are\n",
       "strong multicollinearity or other numerical problems.\n",
       "\"\"\""
      ]
     },
     "execution_count": 31,
     "metadata": {},
     "output_type": "execute_result"
    }
   ],
   "source": [
    "reg_second=sm.ols(formula='lwage~educ_fit+exper+expersq',\n",
    "                 data=data)\n",
    "results_second = reg_second.fit()\n",
    "results_second.summary()"
   ]
  },
  {
   "cell_type": "markdown",
   "metadata": {},
   "source": [
    "## 第二种方法：linearmodel进行2SLS回归\n",
    "相对第一种，代码实现跟简单"
   ]
  },
  {
   "cell_type": "code",
   "execution_count": 32,
   "metadata": {},
   "outputs": [],
   "source": [
    "from linearmodels.iv import IV2SLS"
   ]
  },
  {
   "cell_type": "markdown",
   "metadata": {},
   "source": [
    "$formula的基本形式:dep-exog+[endog~instr]\\\\\n",
    "dep为被解释变量,exog为外生变量,endog为内生变量\\\\\n",
    "instr为工具变量$"
   ]
  },
  {
   "cell_type": "code",
   "execution_count": 33,
   "metadata": {
    "scrolled": true
   },
   "outputs": [
    {
     "data": {
      "text/html": [
       "<table class=\"simpletable\">\n",
       "<caption>IV-2SLS Estimation Summary</caption>\n",
       "<tr>\n",
       "  <th>Dep. Variable:</th>          <td>lwage</td>      <th>  R-squared:         </th>  <td>0.1357</td> \n",
       "</tr>\n",
       "<tr>\n",
       "  <th>Estimator:</th>             <td>IV-2SLS</td>     <th>  Adj. R-squared:    </th>  <td>0.1296</td> \n",
       "</tr>\n",
       "<tr>\n",
       "  <th>No. Observations:</th>        <td>428</td>       <th>  F-statistic:       </th>  <td>8.1407</td> \n",
       "</tr>\n",
       "<tr>\n",
       "  <th>Date:</th>             <td>Tue, Nov 15 2022</td> <th>  P-value (F-stat)   </th>  <td>0.0000</td> \n",
       "</tr>\n",
       "<tr>\n",
       "  <th>Time:</th>                 <td>09:36:57</td>     <th>  Distribution:      </th> <td>F(3,424)</td>\n",
       "</tr>\n",
       "<tr>\n",
       "  <th>Cov. Estimator:</th>      <td>unadjusted</td>    <th>                     </th>     <td></td>    \n",
       "</tr>\n",
       "<tr>\n",
       "  <th></th>                          <td></td>         <th>                     </th>     <td></td>    \n",
       "</tr>\n",
       "</table>\n",
       "<table class=\"simpletable\">\n",
       "<caption>Parameter Estimates</caption>\n",
       "<tr>\n",
       "      <td></td>      <th>Parameter</th> <th>Std. Err.</th> <th>T-stat</th>  <th>P-value</th> <th>Lower CI</th> <th>Upper CI</th>\n",
       "</tr>\n",
       "<tr>\n",
       "  <th>Intercept</th>  <td>0.0481</td>    <td>0.4003</td>   <td>0.1202</td>  <td>0.9044</td>   <td>-0.7388</td>  <td>0.8350</td> \n",
       "</tr>\n",
       "<tr>\n",
       "  <th>exper</th>      <td>0.0442</td>    <td>0.0134</td>   <td>3.2883</td>  <td>0.0011</td>   <td>0.0178</td>   <td>0.0706</td> \n",
       "</tr>\n",
       "<tr>\n",
       "  <th>expersq</th>    <td>-0.0009</td>   <td>0.0004</td>   <td>-2.2380</td> <td>0.0257</td>   <td>-0.0017</td>  <td>-0.0001</td>\n",
       "</tr>\n",
       "<tr>\n",
       "  <th>educ</th>       <td>0.0614</td>    <td>0.0314</td>   <td>1.9530</td>  <td>0.0515</td>   <td>-0.0004</td>  <td>0.1232</td> \n",
       "</tr>\n",
       "</table><br/><br/>Endogenous: educ<br/>Instruments: fatheduc, motheduc<br/>Unadjusted Covariance (Homoskedastic)<br/>Debiased: True<br/>id: 0x149d50e5d60"
      ],
      "text/plain": [
       "                          IV-2SLS Estimation Summary                          \n",
       "==============================================================================\n",
       "Dep. Variable:                  lwage   R-squared:                      0.1357\n",
       "Estimator:                    IV-2SLS   Adj. R-squared:                 0.1296\n",
       "No. Observations:                 428   F-statistic:                    8.1407\n",
       "Date:                Tue, Nov 15 2022   P-value (F-stat)                0.0000\n",
       "Time:                        09:36:57   Distribution:                 F(3,424)\n",
       "Cov. Estimator:            unadjusted                                         \n",
       "                                                                              \n",
       "                             Parameter Estimates                              \n",
       "==============================================================================\n",
       "            Parameter  Std. Err.     T-stat    P-value    Lower CI    Upper CI\n",
       "------------------------------------------------------------------------------\n",
       "Intercept      0.0481     0.4003     0.1202     0.9044     -0.7388      0.8350\n",
       "exper          0.0442     0.0134     3.2883     0.0011      0.0178      0.0706\n",
       "expersq       -0.0009     0.0004    -2.2380     0.0257     -0.0017     -0.0001\n",
       "educ           0.0614     0.0314     1.9530     0.0515     -0.0004      0.1232\n",
       "==============================================================================\n",
       "\n",
       "Endogenous: educ\n",
       "Instruments: fatheduc, motheduc\n",
       "Unadjusted Covariance (Homoskedastic)\n",
       "Debiased: True\n",
       "IVResults, id: 0x149d50e5d60"
      ]
     },
     "execution_count": 33,
     "metadata": {},
     "output_type": "execute_result"
    }
   ],
   "source": [
    "reg_iv = IV2SLS.from_formula(\n",
    "        formula='lwage~1+exper+expersq+[educ~fatheduc+motheduc]',\n",
    "        data=data)\n",
    "result_iv=reg_iv.fit(cov_type='unadjusted',debiased=True)\n",
    "result_iv"
   ]
  },
  {
   "cell_type": "markdown",
   "metadata": {},
   "source": [
    "# 检验工具变量、内生性\n",
    "<span class=\"mark\">这一步是关键，因为能够考察你是否工具变量选对了</span>"
   ]
  },
  {
   "cell_type": "markdown",
   "metadata": {},
   "source": [
    "## 内生性检验\n",
    "$刚才我们把x拆开了2部分，只用了x不与随机扰动项相关的那部分，\\\\\n",
    "另外一部分与随机扰动项相关的部分就是用来检验的.$"
   ]
  },
  {
   "cell_type": "code",
   "execution_count": 36,
   "metadata": {},
   "outputs": [
    {
     "data": {
      "text/plain": [
       "0   -0.756017\n",
       "1    0.266442\n",
       "2   -0.771979\n",
       "3    0.232317\n",
       "4    0.085385\n",
       "Name: resid, dtype: float64"
      ]
     },
     "execution_count": 36,
     "metadata": {},
     "output_type": "execute_result"
    }
   ],
   "source": [
    "#即在第一阶段中\n",
    "reg_first=sm.ols(formula='educ~exper+expersq+fatheduc+motheduc',\n",
    "                data=data)\n",
    "result_first=reg_first.fit()\n",
    "data['resid']=result_first.resid#与随机扰动项相关的部分\n",
    "data['resid'].head()"
   ]
  },
  {
   "cell_type": "markdown",
   "metadata": {},
   "source": [
    "$把生成的与随机扰动项相关的部分与被解释变量做回归,\\\\\n",
    "如果这部分的方程系数显著，说明了拆出来的这部分(与随机扰动项相关)\\\\\n",
    "与被解释变量相关，即最开始的内生变量educ是具有内生性的。$"
   ]
  },
  {
   "cell_type": "code",
   "execution_count": 37,
   "metadata": {},
   "outputs": [
    {
     "data": {
      "text/html": [
       "<table class=\"simpletable\">\n",
       "<caption>OLS Regression Results</caption>\n",
       "<tr>\n",
       "  <th>Dep. Variable:</th>          <td>lwage</td>      <th>  R-squared:         </th> <td>   0.162</td>\n",
       "</tr>\n",
       "<tr>\n",
       "  <th>Model:</th>                   <td>OLS</td>       <th>  Adj. R-squared:    </th> <td>   0.154</td>\n",
       "</tr>\n",
       "<tr>\n",
       "  <th>Method:</th>             <td>Least Squares</td>  <th>  F-statistic:       </th> <td>   20.50</td>\n",
       "</tr>\n",
       "<tr>\n",
       "  <th>Date:</th>             <td>Tue, 15 Nov 2022</td> <th>  Prob (F-statistic):</th> <td>1.89e-15</td>\n",
       "</tr>\n",
       "<tr>\n",
       "  <th>Time:</th>                 <td>09:49:59</td>     <th>  Log-Likelihood:    </th> <td> -430.19</td>\n",
       "</tr>\n",
       "<tr>\n",
       "  <th>No. Observations:</th>      <td>   428</td>      <th>  AIC:               </th> <td>   870.4</td>\n",
       "</tr>\n",
       "<tr>\n",
       "  <th>Df Residuals:</th>          <td>   423</td>      <th>  BIC:               </th> <td>   890.7</td>\n",
       "</tr>\n",
       "<tr>\n",
       "  <th>Df Model:</th>              <td>     4</td>      <th>                     </th>     <td> </td>   \n",
       "</tr>\n",
       "<tr>\n",
       "  <th>Covariance Type:</th>      <td>nonrobust</td>    <th>                     </th>     <td> </td>   \n",
       "</tr>\n",
       "</table>\n",
       "<table class=\"simpletable\">\n",
       "<tr>\n",
       "      <td></td>         <th>coef</th>     <th>std err</th>      <th>t</th>      <th>P>|t|</th>  <th>[0.025</th>    <th>0.975]</th>  \n",
       "</tr>\n",
       "<tr>\n",
       "  <th>Intercept</th> <td>    0.0481</td> <td>    0.395</td> <td>    0.122</td> <td> 0.903</td> <td>   -0.727</td> <td>    0.824</td>\n",
       "</tr>\n",
       "<tr>\n",
       "  <th>resid</th>     <td>    0.0582</td> <td>    0.035</td> <td>    1.671</td> <td> 0.095</td> <td>   -0.010</td> <td>    0.127</td>\n",
       "</tr>\n",
       "<tr>\n",
       "  <th>educ</th>      <td>    0.0614</td> <td>    0.031</td> <td>    1.981</td> <td> 0.048</td> <td>    0.000</td> <td>    0.122</td>\n",
       "</tr>\n",
       "<tr>\n",
       "  <th>exper</th>     <td>    0.0442</td> <td>    0.013</td> <td>    3.336</td> <td> 0.001</td> <td>    0.018</td> <td>    0.070</td>\n",
       "</tr>\n",
       "<tr>\n",
       "  <th>expersq</th>   <td>   -0.0009</td> <td>    0.000</td> <td>   -2.271</td> <td> 0.024</td> <td>   -0.002</td> <td>   -0.000</td>\n",
       "</tr>\n",
       "</table>\n",
       "<table class=\"simpletable\">\n",
       "<tr>\n",
       "  <th>Omnibus:</th>       <td>74.968</td> <th>  Durbin-Watson:     </th> <td>   1.931</td>\n",
       "</tr>\n",
       "<tr>\n",
       "  <th>Prob(Omnibus):</th> <td> 0.000</td> <th>  Jarque-Bera (JB):  </th> <td> 278.059</td>\n",
       "</tr>\n",
       "<tr>\n",
       "  <th>Skew:</th>          <td>-0.736</td> <th>  Prob(JB):          </th> <td>4.17e-61</td>\n",
       "</tr>\n",
       "<tr>\n",
       "  <th>Kurtosis:</th>      <td> 6.664</td> <th>  Cond. No.          </th> <td>4.42e+03</td>\n",
       "</tr>\n",
       "</table><br/><br/>Notes:<br/>[1] Standard Errors assume that the covariance matrix of the errors is correctly specified.<br/>[2] The condition number is large, 4.42e+03. This might indicate that there are<br/>strong multicollinearity or other numerical problems."
      ],
      "text/plain": [
       "<class 'statsmodels.iolib.summary.Summary'>\n",
       "\"\"\"\n",
       "                            OLS Regression Results                            \n",
       "==============================================================================\n",
       "Dep. Variable:                  lwage   R-squared:                       0.162\n",
       "Model:                            OLS   Adj. R-squared:                  0.154\n",
       "Method:                 Least Squares   F-statistic:                     20.50\n",
       "Date:                Tue, 15 Nov 2022   Prob (F-statistic):           1.89e-15\n",
       "Time:                        09:49:59   Log-Likelihood:                -430.19\n",
       "No. Observations:                 428   AIC:                             870.4\n",
       "Df Residuals:                     423   BIC:                             890.7\n",
       "Df Model:                           4                                         \n",
       "Covariance Type:            nonrobust                                         \n",
       "==============================================================================\n",
       "                 coef    std err          t      P>|t|      [0.025      0.975]\n",
       "------------------------------------------------------------------------------\n",
       "Intercept      0.0481      0.395      0.122      0.903      -0.727       0.824\n",
       "resid          0.0582      0.035      1.671      0.095      -0.010       0.127\n",
       "educ           0.0614      0.031      1.981      0.048       0.000       0.122\n",
       "exper          0.0442      0.013      3.336      0.001       0.018       0.070\n",
       "expersq       -0.0009      0.000     -2.271      0.024      -0.002      -0.000\n",
       "==============================================================================\n",
       "Omnibus:                       74.968   Durbin-Watson:                   1.931\n",
       "Prob(Omnibus):                  0.000   Jarque-Bera (JB):              278.059\n",
       "Skew:                          -0.736   Prob(JB):                     4.17e-61\n",
       "Kurtosis:                       6.664   Cond. No.                     4.42e+03\n",
       "==============================================================================\n",
       "\n",
       "Notes:\n",
       "[1] Standard Errors assume that the covariance matrix of the errors is correctly specified.\n",
       "[2] The condition number is large, 4.42e+03. This might indicate that there are\n",
       "strong multicollinearity or other numerical problems.\n",
       "\"\"\""
      ]
     },
     "execution_count": 37,
     "metadata": {},
     "output_type": "execute_result"
    }
   ],
   "source": [
    "reg_second=sm.ols(formula='lwage~resid+educ+exper+expersq',\n",
    "                 data=data)\n",
    "result_second=reg_second.fit()\n",
    "result_second.summary()"
   ]
  },
  {
   "cell_type": "markdown",
   "metadata": {},
   "source": [
    "## 工具变量与随机扰动项是否相关"
   ]
  },
  {
   "cell_type": "markdown",
   "metadata": {},
   "source": [
    "### 通过刚才第二个方法获得残差\n",
    "$log(wage) = \\beta_0 +\\beta_1educ+\\beta_2exper+\\beta_3exper^2+\\beta_4fatheduc+\\beta_5mothereduc+u$"
   ]
  },
  {
   "cell_type": "code",
   "execution_count": 38,
   "metadata": {},
   "outputs": [],
   "source": [
    "reg_iv = IV2SLS.from_formula(\n",
    "        formula='lwage~1+exper+expersq+[educ~fatheduc+motheduc]',\n",
    "        data=data)\n",
    "result_iv=reg_iv.fit(cov_type='unadjusted',debiased=True)\n",
    "data['resid_iv']=result_iv.resids#获得残差"
   ]
  },
  {
   "cell_type": "markdown",
   "metadata": {},
   "source": [
    "### 将残差与所有外生变量和工具变量回归\n",
    "判断工具变量的系数是否显著"
   ]
  },
  {
   "cell_type": "code",
   "execution_count": 39,
   "metadata": {},
   "outputs": [],
   "source": [
    "reg_judge=sm.ols(formula='resid_iv~exper+expersq+fatheduc+motheduc',\n",
    "                data=data)\n",
    "result_judge=reg_judge.fit()"
   ]
  },
  {
   "cell_type": "markdown",
   "metadata": {},
   "source": [
    "### p值判断\n",
    "$H0:工具变量与随机扰动项不相关.\\\\\n",
    "nR^2 \\sim X_q^2$"
   ]
  },
  {
   "cell_type": "code",
   "execution_count": 44,
   "metadata": {},
   "outputs": [
    {
     "name": "stdout",
     "output_type": "stream",
     "text": [
      "p值为0.538637233071513\n",
      "接受原假设，工具变量与随机扰动项不相关,工具变量适用\n"
     ]
    }
   ],
   "source": [
    "import scipy.stats as stat\n",
    "R2=result_judge.rsquared#可决系数\n",
    "n=result_judge.nobs# 样本数量\n",
    "q=2-1#工具变量数目-内生变量数目\n",
    "nR2=n*R2\n",
    "p=1-stat.chi2.cdf(nR2,q)#卡方\n",
    "print(f'p值为{p}')\n",
    "if p>0.05:\n",
    "    print('接受原假设，工具变量与随机扰动项不相关,工具变量适用')\n",
    "else:\n",
    "    print('拒绝原假设，工具变量与随机扰动项相关')"
   ]
  },
  {
   "cell_type": "code",
   "execution_count": null,
   "metadata": {},
   "outputs": [],
   "source": []
  }
 ],
 "metadata": {
  "kernelspec": {
   "display_name": "Python 3",
   "language": "python",
   "name": "python3"
  },
  "language_info": {
   "codemirror_mode": {
    "name": "ipython",
    "version": 3
   },
   "file_extension": ".py",
   "mimetype": "text/x-python",
   "name": "python",
   "nbconvert_exporter": "python",
   "pygments_lexer": "ipython3",
   "version": "3.8.5"
  },
  "toc": {
   "base_numbering": 1,
   "nav_menu": {},
   "number_sections": true,
   "sideBar": true,
   "skip_h1_title": false,
   "title_cell": "Table of Contents",
   "title_sidebar": "Contents",
   "toc_cell": false,
   "toc_position": {},
   "toc_section_display": true,
   "toc_window_display": false
  },
  "varInspector": {
   "cols": {
    "lenName": 16,
    "lenType": 16,
    "lenVar": 40
   },
   "kernels_config": {
    "python": {
     "delete_cmd_postfix": "",
     "delete_cmd_prefix": "del ",
     "library": "var_list.py",
     "varRefreshCmd": "print(var_dic_list())"
    },
    "r": {
     "delete_cmd_postfix": ") ",
     "delete_cmd_prefix": "rm(",
     "library": "var_list.r",
     "varRefreshCmd": "cat(var_dic_list()) "
    }
   },
   "types_to_exclude": [
    "module",
    "function",
    "builtin_function_or_method",
    "instance",
    "_Feature"
   ],
   "window_display": false
  }
 },
 "nbformat": 4,
 "nbformat_minor": 4
}
